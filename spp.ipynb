import math
import pandas_datareader as web
import numpy as np
import pandas as pd
from sklearn.preprocessing import MinMaxScaler
from keras.models import Sequential
from keras.layers import Dense, LSTM
import matplotlib.pyplot as plt

df = web.DataReader('AAPL', data_source='yahoo', start='2019-01-01', end='2021-11-30')
#show the data
df
